{
 "cells": [
  {
   "cell_type": "markdown",
   "metadata": {},
   "source": [
    "# TSFM Client - Simple Demo\n",
    "\n",
    "This notebook demonstrates the simplest way to use the TSFM (Time Series Foundation Model) client for forecasting.\n",
    "\n",
    "## Prerequisites\n",
    "\n",
    "1. **API Key**: You need to set the `TSFM_API_KEY` environment variable\n",
    "2. **Server**: Make sure the TSFM server is running on `http://localhost:8000`\n",
    "\n",
    "### Setting up the API Key\n",
    "\n",
    "```bash\n",
    "export TSFM_API_KEY=\"\"\n",
    "```\n",
    "\n",
    "Or in Python:\n",
    "```python\n",
    "import os\n",
    "os.environ['TSFM_API_KEY'] = ''\n",
    "```"
   ]
  },
  {
   "metadata": {
    "ExecuteTime": {
     "end_time": "2025-08-04T22:05:31.910775Z",
     "start_time": "2025-08-04T22:05:31.905648Z"
    }
   },
   "cell_type": "code",
   "source": [
    "import os\n",
    "os.environ['TSFM_API_KEY'] = ''"
   ],
   "outputs": [],
   "execution_count": 1
  },
  {
   "cell_type": "code",
   "metadata": {
    "ExecuteTime": {
     "end_time": "2025-08-04T22:05:33.492368Z",
     "start_time": "2025-08-04T22:05:33.069223Z"
    }
   },
   "source": [
    "# Set up API key (do this once per notebook session)\n",
    "import os\n",
    "# os.environ['TSFM_API_KEY'] = ''\n",
    "\n",
    "# Install the package if needed\n",
    "# !pip install tsfm-client\n",
    "\n",
    "# Import required libraries\n",
    "import pandas as pd\n",
    "import numpy as np\n",
    "from tsfm_client import predict\n",
    "\n",
    "print(\"✅ Setup complete!\")"
   ],
   "outputs": [
    {
     "name": "stdout",
     "output_type": "stream",
     "text": [
      "✅ Setup complete!\n"
     ]
    }
   ],
   "execution_count": 2
  },
  {
   "cell_type": "code",
   "metadata": {
    "ExecuteTime": {
     "end_time": "2025-08-04T22:17:45.033744Z",
     "start_time": "2025-08-04T22:17:45.027248Z"
    }
   },
   "source": [
    "# Create sample sales data\n",
    "n = 5000\n",
    "dates = pd.date_range('2024-01-01', periods=n, freq='D')\n",
    "\n",
    "# Simulate sales data with trend and noise\n",
    "trend = np.linspace(100, 200, n)\n",
    "noise = np.random.normal(0, 10, n)\n",
    "seasonal = 10 * np.sin(2 * np.pi * np.arange(n) / 7)  # Weekly seasonality\n",
    "\n",
    "sales_data = pd.Series(trend + seasonal + noise, index=dates, name='sales')\n",
    "\n",
    "print(\"Sample sales data (last 10 days):\")\n",
    "print(sales_data.tail(10))\n",
    "sales_data.shape"
   ],
   "outputs": [
    {
     "name": "stdout",
     "output_type": "stream",
     "text": [
      "Sample sales data (last 10 days):\n",
      "2037-08-30    187.615498\n",
      "2037-08-31    202.484798\n",
      "2037-09-01    204.683764\n",
      "2037-09-02    209.230129\n",
      "2037-09-03    210.950755\n",
      "2037-09-04    189.161304\n",
      "2037-09-05    186.971624\n",
      "2037-09-06    215.754153\n",
      "2037-09-07    208.011925\n",
      "2037-09-08    213.200960\n",
      "Freq: D, Name: sales, dtype: float64\n"
     ]
    },
    {
     "data": {
      "text/plain": [
       "(5000,)"
      ]
     },
     "execution_count": 18,
     "metadata": {},
     "output_type": "execute_result"
    }
   ],
   "execution_count": 18
  },
  {
   "cell_type": "code",
   "metadata": {
    "ExecuteTime": {
     "end_time": "2025-08-04T22:17:50.837583Z",
     "start_time": "2025-08-04T22:17:46.874043Z"
    }
   },
   "source": [
    "# Make prediction with confidence intervals\n",
    "response = predict(\n",
    "    data=sales_data,\n",
    "    forecast_horizon=10,\n",
    "    confidence_intervals=True,\n",
    "    model='toto-open-base-1.0',\n",
    "    num_samples=10\n",
    ")\n",
    "\n",
    "print(f\"✅ 10-day forecast: {response.forecast}\")\n",
    "print(f\"Model used: {response.model_name}\")\n",
    "\n",
    "if response.confidence_intervals:\n",
    "    print(f\"\\nConfidence intervals: {response.confidence_intervals}\")"
   ],
   "outputs": [
    {
     "name": "stdout",
     "output_type": "stream",
     "text": [
      "✅ 10-day forecast: [207.3481903076172, 202.52542114257812, 193.8355712890625, 196.54800415039062, 196.25160217285156, 201.46533203125, 205.7838897705078, 210.92056274414062, 201.18551635742188, 191.5183868408203]\n",
      "Model used: toto-open-base-1.0\n",
      "\n",
      "Confidence intervals: {'80%': {'lower': [200.07669067382812, 188.9459991455078, 186.9412078857422, 188.52622985839844, 185.835205078125, 191.2191619873047, 190.85610961914062, 205.53067016601562, 188.56097412109375, 182.3580780029297], 'upper': [213.99501037597656, 215.4633026123047, 200.60580444335938, 206.3490753173828, 207.14427185058594, 219.1131591796875, 217.5805206298828, 220.9561767578125, 211.22903442382812, 199.36155700683594]}}\n"
     ]
    }
   ],
   "execution_count": 19
  },
  {
   "cell_type": "code",
   "metadata": {
    "ExecuteTime": {
     "end_time": "2025-08-04T22:02:19.031759Z",
     "start_time": "2025-08-04T22:01:39.869381Z"
    }
   },
   "source": [
    "# Convert to DataFrame for easier analysis\n",
    "forecast_df = response.to_pandas()\n",
    "print(\"Forecast DataFrame:\")\n",
    "print(forecast_df)"
   ],
   "outputs": [
    {
     "name": "stdout",
     "output_type": "stream",
     "text": [
      "Forecast DataFrame:\n",
      "     forecast   lower_80%   upper_80%\n",
      "0  207.859421  197.372620  219.670868\n",
      "1  205.651657  192.957123  223.644821\n",
      "2  207.749023  188.100082  228.943390\n",
      "3  204.989349  184.788467  222.761703\n",
      "4  203.002380  192.074020  215.586548\n",
      "5  202.340042  188.210464  211.060654\n",
      "6  207.307465  186.002716  229.053802\n",
      "7  206.755539  189.093567  227.177200\n",
      "8  211.833374  180.924911  227.729141\n",
      "9  213.599564  183.684586  230.157669\n"
     ]
    }
   ],
   "execution_count": 6
  },
  {
   "cell_type": "code",
   "metadata": {
    "ExecuteTime": {
     "end_time": "2025-08-04T22:01:40.515734Z",
     "start_time": "2025-08-04T22:01:40.287894Z"
    }
   },
   "source": [
    "# Optional: Plot the results\n",
    "import matplotlib.pyplot as plt\n",
    "\n",
    "plt.figure(figsize=(12, 6))\n",
    "\n",
    "# Plot historical data\n",
    "plt.plot(sales_data.index, sales_data.values, label='Historical Sales', color='blue')\n",
    "\n",
    "# Plot forecast\n",
    "forecast_dates = pd.date_range(sales_data.index[-1] + pd.Timedelta(days=1), periods=10, freq='D')\n",
    "plt.plot(forecast_dates, response.forecast, label='Forecast', color='red', linestyle='--')\n",
    "\n",
    "# Plot confidence intervals if available\n",
    "if response.confidence_intervals:\n",
    "    ci_80 = response.confidence_intervals['80%']\n",
    "    plt.fill_between(forecast_dates, ci_80['lower'], ci_80['upper'], \n",
    "                    alpha=0.3, color='red', label='80% Confidence Interval')\n",
    "\n",
    "plt.xlabel('Date')\n",
    "plt.ylabel('Sales')\n",
    "plt.title('Sales Forecast with TSFM')\n",
    "plt.legend()\n",
    "plt.grid(True, alpha=0.3)\n",
    "plt.tight_layout()\n",
    "plt.show()"
   ],
   "outputs": [
    {
     "ename": "ModuleNotFoundError",
     "evalue": "No module named 'matplotlib'",
     "output_type": "error",
     "traceback": [
      "\u001B[31m---------------------------------------------------------------------------\u001B[39m",
      "\u001B[31mModuleNotFoundError\u001B[39m                       Traceback (most recent call last)",
      "\u001B[36mCell\u001B[39m\u001B[36m \u001B[39m\u001B[32mIn[7]\u001B[39m\u001B[32m, line 2\u001B[39m\n\u001B[32m      1\u001B[39m \u001B[38;5;66;03m# Optional: Plot the results\u001B[39;00m\n\u001B[32m----> \u001B[39m\u001B[32m2\u001B[39m \u001B[38;5;28;01mimport\u001B[39;00m\u001B[38;5;250m \u001B[39m\u001B[34;01mmatplotlib\u001B[39;00m\u001B[34;01m.\u001B[39;00m\u001B[34;01mpyplot\u001B[39;00m\u001B[38;5;250m \u001B[39m\u001B[38;5;28;01mas\u001B[39;00m\u001B[38;5;250m \u001B[39m\u001B[34;01mplt\u001B[39;00m\n\u001B[32m      4\u001B[39m plt.figure(figsize=(\u001B[32m12\u001B[39m, \u001B[32m6\u001B[39m))\n\u001B[32m      6\u001B[39m \u001B[38;5;66;03m# Plot historical data\u001B[39;00m\n",
      "\u001B[31mModuleNotFoundError\u001B[39m: No module named 'matplotlib'"
     ]
    }
   ],
   "execution_count": 7
  },
  {
   "cell_type": "code",
   "execution_count": null,
   "metadata": {},
   "outputs": [],
   "source": []
  },
  {
   "cell_type": "code",
   "execution_count": null,
   "metadata": {},
   "outputs": [],
   "source": []
  }
 ],
 "metadata": {
  "kernelspec": {
   "display_name": "Python 3 (ipykernel)",
   "language": "python",
   "name": "python3"
  },
  "language_info": {
   "codemirror_mode": {
    "name": "ipython",
    "version": 3
   },
   "file_extension": ".py",
   "mimetype": "text/x-python",
   "name": "python",
   "nbconvert_exporter": "python",
   "pygments_lexer": "ipython3",
   "version": "3.11.13"
  }
 },
 "nbformat": 4,
 "nbformat_minor": 4
}
